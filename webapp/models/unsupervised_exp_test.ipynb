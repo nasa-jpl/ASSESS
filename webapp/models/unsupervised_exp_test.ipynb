{
 "cells": [
  {
   "cell_type": "code",
   "execution_count": null,
   "metadata": {
    "collapsed": true
   },
   "outputs": [],
   "source": [
    "import pandas as pd\n",
    "from sklearn.feature_extraction.text import TfidfVectorizer\n",
    "import unsupervised_exp as unsup\n",
    "\n",
    "\n",
    "df=pd.read_csv('../standards/IEEE-standards_rev1.csv',index_col=0)\n",
    "\n",
    "vectorizer_tf_idf = TfidfVectorizer(ngram_range=(1, 2))\n",
    "\n",
    "unsup.train(df,'data_test_1',vectorizer_tf_idf,['abstract_new','purpose_new','scope_new'],['Publication Title','Category'])\n",
    "\n",
    "sample='The use of traffic scheduling and per-stream filtering and policing to support cyclic queuing and forwarding are described in this amendment to IEEE Std 802.1Q-2014.'\n",
    "\n",
    "results=unsup.predict(sample,'data_test_1',vectorizer_tf_idf)\n",
    "results.style"
   ]
  }
 ],
 "metadata": {
  "kernelspec": {
   "display_name": "Python 2",
   "language": "python",
   "name": "python2"
  },
  "language_info": {
   "codemirror_mode": {
    "name": "ipython",
    "version": 2
   },
   "file_extension": ".py",
   "mimetype": "text/x-python",
   "name": "python",
   "nbconvert_exporter": "python",
   "pygments_lexer": "ipython2",
   "version": "2.7.6"
  }
 },
 "nbformat": 4,
 "nbformat_minor": 0
}
